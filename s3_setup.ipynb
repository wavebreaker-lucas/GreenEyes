{
  "nbformat": 4,
  "nbformat_minor": 0,
  "metadata": {
    "colab": {
      "provenance": [],
      "authorship_tag": "ABX9TyPoWrMRfKxKzV9xyeu8wly8",
      "include_colab_link": true
    },
    "kernelspec": {
      "name": "python3",
      "display_name": "Python 3"
    },
    "language_info": {
      "name": "python"
    }
  },
  "cells": [
    {
      "cell_type": "markdown",
      "metadata": {
        "id": "view-in-github",
        "colab_type": "text"
      },
      "source": [
        "<a href=\"https://colab.research.google.com/github/wavebreaker-lucas/GreenEyes/blob/main/s3_setup.ipynb\" target=\"_parent\"><img src=\"https://colab.research.google.com/assets/colab-badge.svg\" alt=\"Open In Colab\"/></a>"
      ]
    },
    {
      "cell_type": "code",
      "execution_count": null,
      "metadata": {
        "id": "qx8_fTno7GKg"
      },
      "outputs": [],
      "source": [
        "import boto3"
      ]
    },
    {
      "cell_type": "code",
      "source": [
        "s3 = boto3.client('s3')\n",
        "\n",
        "bucket_name = 'your-bucket-name'\n",
        "\n",
        "# Create the S3 bucket\n",
        "s3.create_bucket(Bucket=bucket_name)"
      ],
      "metadata": {
        "id": "N1v3sIbk7ZdQ"
      },
      "execution_count": null,
      "outputs": []
    }
  ]
}