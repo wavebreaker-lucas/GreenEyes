{
  "nbformat": 4,
  "nbformat_minor": 0,
  "metadata": {
    "colab": {
      "provenance": [],
      "authorship_tag": "ABX9TyPAKWeb0l/Yd9V9dtlFYR5b",
      "include_colab_link": true
    },
    "kernelspec": {
      "name": "python3",
      "display_name": "Python 3"
    },
    "language_info": {
      "name": "python"
    }
  },
  "cells": [
    {
      "cell_type": "markdown",
      "metadata": {
        "id": "view-in-github",
        "colab_type": "text"
      },
      "source": [
        "<a href=\"https://colab.research.google.com/github/wavebreaker-lucas/GreenEyes/blob/main/lambda_function.ipynb\" target=\"_parent\"><img src=\"https://colab.research.google.com/assets/colab-badge.svg\" alt=\"Open In Colab\"/></a>"
      ]
    },
    {
      "cell_type": "code",
      "execution_count": null,
      "metadata": {
        "id": "CTDND1SFIIlJ"
      },
      "outputs": [],
      "source": [
        "import boto3"
      ]
    },
    {
      "cell_type": "code",
      "source": [
        "s3 = boto3.client('s3')"
      ],
      "metadata": {
        "colab": {
          "base_uri": "https://localhost:8080/",
          "height": 176
        },
        "id": "zFqGBqXWIu_a",
        "outputId": "64502823-2765-4fea-a51f-affaadfe9e9e"
      },
      "execution_count": 1,
      "outputs": [
        {
          "output_type": "error",
          "ename": "NameError",
          "evalue": "name 'boto3' is not defined",
          "traceback": [
            "\u001b[0;31m---------------------------------------------------------------------------\u001b[0m",
            "\u001b[0;31mNameError\u001b[0m                                 Traceback (most recent call last)",
            "\u001b[0;32m<ipython-input-1-87c5e078f01e>\u001b[0m in \u001b[0;36m<cell line: 1>\u001b[0;34m()\u001b[0m\n\u001b[0;32m----> 1\u001b[0;31m \u001b[0ms3\u001b[0m \u001b[0;34m=\u001b[0m \u001b[0mboto3\u001b[0m\u001b[0;34m.\u001b[0m\u001b[0mclient\u001b[0m\u001b[0;34m(\u001b[0m\u001b[0;34m's3'\u001b[0m\u001b[0;34m)\u001b[0m\u001b[0;34m\u001b[0m\u001b[0;34m\u001b[0m\u001b[0m\n\u001b[0m",
            "\u001b[0;31mNameError\u001b[0m: name 'boto3' is not defined"
          ]
        }
      ]
    },
    {
      "cell_type": "code",
      "source": [
        "def lambda_handler(event, context):\n",
        "    # Get the uploaded file details from the event object\n",
        "    bucket = event['Records'][0]['s3']['bucket']['name']\n",
        "    key = event['Records'][0]['s3']['object']['key']\n",
        "\n",
        "    # Download the file to a temporary location\n",
        "    temp_file = '/tmp/' + key\n",
        "    s3.download_file(bucket, key, temp_file)\n",
        "\n",
        "    # Validate the file type\n",
        "    if is_pdf(temp_file):\n",
        "        extracted_data = extract_text_from_pdf(temp_file)\n",
        "    elif is_image(temp_file):\n",
        "        extracted_data = extract_text_from_image(temp_file)\n",
        "    else:\n",
        "        return {\n",
        "            'statusCode': 400,\n",
        "            'body': 'Invalid file type. Only PDF and image files are supported.'\n",
        "        }\n",
        "\n",
        "    # Save the extracted data to a database or file\n",
        "    save_data(extracted_data)\n",
        "\n",
        "    return {\n",
        "        'statusCode': 200,\n",
        "        'body': 'File processed successfully.'\n",
        "    }"
      ],
      "metadata": {
        "id": "-jE3q260Iy3f"
      },
      "execution_count": null,
      "outputs": []
    }
  ]
}